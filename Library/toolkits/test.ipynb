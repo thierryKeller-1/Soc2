{
 "cells": [
  {
   "cell_type": "code",
   "execution_count": 1,
   "metadata": {},
   "outputs": [],
   "source": [
    "data = [\n",
    "    {\n",
    "        \"url\": \"https://www.maeva.com/fr-fr/searchlist.php?map=1&acces_direct=1&station_cle=29994&etendre_min=30&trier_par=zerank\",\n",
    "        \"nb_page\": 1\n",
    "    },\n",
    "    {\n",
    "        \"url\": \"https://www.maeva.com/fr-fr/searchlist.php?map=1&acces_direct=1&station_cle=109&etendre_min=30&trier_par=zerank\",\n",
    "        \"nb_page\": 1\n",
    "    },\n",
    "    {\n",
    "        \"url\": \"https://www.maeva.com/fr-fr/searchlist.php?map=1&acces_direct=1&station_cle=304&etendre_min=30&trier_par=zerank\",\n",
    "        \"nb_page\": 1\n",
    "    },\n",
    "    {\n",
    "        \"url\": \"https://www.maeva.com/fr-fr/searchlist.php?map=1&acces_direct=1&station_cle=39&etendre_min=30&trier_par=zerank\",\n",
    "        \"nb_page\": 1\n",
    "    },\n",
    "    {\n",
    "        \"url\": \"https://www.maeva.com/fr-fr/searchlist.php?map=1&acces_direct=1&station_cle=297&etendre_min=30&trier_par=zerank\",\n",
    "        \"nb_page\": 1\n",
    "    },\n",
    "        {\n",
    "        \"url\": \"https://www.maeva.com/fr-fr/searchlist.php?map=1&acces_direct=1&station_cle=29994&etendre_min=30&trier_par=zerank\",\n",
    "        \"nb_page\": 1\n",
    "    },\n",
    "    {\n",
    "        \"url\": \"https://www.maeva.com/fr-fr/searchlist.php?map=1&acces_direct=1&station_cle=109&etendre_min=30&trier_par=zerank\",\n",
    "        \"nb_page\": 1\n",
    "    },\n",
    "    {\n",
    "        \"url\": \"https://www.maeva.com/fr-fr/searchlist.php?map=1&acces_direct=1&station_cle=304&etendre_min=30&trier_par=zerank\",\n",
    "        \"nb_page\": 1\n",
    "    },\n",
    "    {\n",
    "        \"url\": \"https://www.maeva.com/fr-fr/searchlist.php?map=1&acces_direct=1&station_cle=39&etendre_min=30&trier_par=zerank\",\n",
    "        \"nb_page\": 1\n",
    "    },\n",
    "    {\n",
    "        \"url\": \"https://www.maeva.com/fr-fr/searchlist.php?map=1&acces_direct=1&station_cle=297&etendre_min=30&trier_par=zerank\",\n",
    "        \"nb_page\": 1\n",
    "    }\n",
    "    ]"
   ]
  },
  {
   "cell_type": "code",
   "execution_count": 2,
   "metadata": {},
   "outputs": [],
   "source": [
    "def split_data(data_to_split:list, by:int) -> list:\n",
    "            \"\"\"## split a large of list of data in to small list \n",
    "\n",
    "            ### Args:\n",
    "                - `data_to_split (list)`: list of big data to b\n",
    "                - `by (int)`: number of peace of list\n",
    "\n",
    "            ### Returns:\n",
    "                - `list`: list contains splitted list of data\n",
    "            \"\"\"\n",
    "            return [data_to_split[i:i + by] for i in range(0, len(data_to_split), by)]\n",
    "        "
   ]
  },
  {
   "cell_type": "code",
   "execution_count": 3,
   "metadata": {},
   "outputs": [
    {
     "data": {
      "text/plain": [
       "[[{'url': 'https://www.maeva.com/fr-fr/searchlist.php?map=1&acces_direct=1&station_cle=29994&etendre_min=30&trier_par=zerank',\n",
       "   'nb_page': 1},\n",
       "  {'url': 'https://www.maeva.com/fr-fr/searchlist.php?map=1&acces_direct=1&station_cle=109&etendre_min=30&trier_par=zerank',\n",
       "   'nb_page': 1}],\n",
       " [{'url': 'https://www.maeva.com/fr-fr/searchlist.php?map=1&acces_direct=1&station_cle=304&etendre_min=30&trier_par=zerank',\n",
       "   'nb_page': 1},\n",
       "  {'url': 'https://www.maeva.com/fr-fr/searchlist.php?map=1&acces_direct=1&station_cle=39&etendre_min=30&trier_par=zerank',\n",
       "   'nb_page': 1}],\n",
       " [{'url': 'https://www.maeva.com/fr-fr/searchlist.php?map=1&acces_direct=1&station_cle=297&etendre_min=30&trier_par=zerank',\n",
       "   'nb_page': 1},\n",
       "  {'url': 'https://www.maeva.com/fr-fr/searchlist.php?map=1&acces_direct=1&station_cle=29994&etendre_min=30&trier_par=zerank',\n",
       "   'nb_page': 1}],\n",
       " [{'url': 'https://www.maeva.com/fr-fr/searchlist.php?map=1&acces_direct=1&station_cle=109&etendre_min=30&trier_par=zerank',\n",
       "   'nb_page': 1},\n",
       "  {'url': 'https://www.maeva.com/fr-fr/searchlist.php?map=1&acces_direct=1&station_cle=304&etendre_min=30&trier_par=zerank',\n",
       "   'nb_page': 1}],\n",
       " [{'url': 'https://www.maeva.com/fr-fr/searchlist.php?map=1&acces_direct=1&station_cle=39&etendre_min=30&trier_par=zerank',\n",
       "   'nb_page': 1},\n",
       "  {'url': 'https://www.maeva.com/fr-fr/searchlist.php?map=1&acces_direct=1&station_cle=297&etendre_min=30&trier_par=zerank',\n",
       "   'nb_page': 1}]]"
      ]
     },
     "execution_count": 3,
     "metadata": {},
     "output_type": "execute_result"
    }
   ],
   "source": [
    "split_data(data, 2)"
   ]
  }
 ],
 "metadata": {
  "kernelspec": {
   "display_name": "base",
   "language": "python",
   "name": "python3"
  },
  "language_info": {
   "codemirror_mode": {
    "name": "ipython",
    "version": 3
   },
   "file_extension": ".py",
   "mimetype": "text/x-python",
   "name": "python",
   "nbconvert_exporter": "python",
   "pygments_lexer": "ipython3",
   "version": "3.12.7"
  }
 },
 "nbformat": 4,
 "nbformat_minor": 2
}
